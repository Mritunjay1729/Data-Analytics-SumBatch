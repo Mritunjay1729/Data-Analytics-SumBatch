{
 "cells": [
  {
   "cell_type": "code",
   "execution_count": 1,
   "metadata": {},
   "outputs": [
    {
     "name": "stdout",
     "output_type": "stream",
     "text": [
      "[1, 2, 3, 4, 5, 6, 7, 8, 9, 10]\n"
     ]
    }
   ],
   "source": [
    "lst=[10,9,8,7,6,5,4,3,2,1]\n",
    "n=len(lst)\n",
    "for i in range(n):\n",
    "    for j in range(0,n-i-1):\n",
    "        if lst[j]>lst[j+1]:\n",
    "            lst[j],lst[j+1]=lst[j+1],lst[j]\n",
    "        \n",
    "print(lst)"
   ]
  },
  {
   "cell_type": "code",
   "execution_count": 6,
   "metadata": {},
   "outputs": [],
   "source": [
    "#Example\n",
    "def greet(name,msg,group):\n",
    "   \"\"\"This function greets to\n",
    "   the person with the provided message\"\"\"\n",
    "   print(\"Hello\",name + ', ' + msg+'welcome to '+group)\n",
    "\n",
    "#greet(\"Students\",\"Good Evening!\")"
   ]
  },
  {
   "cell_type": "code",
   "execution_count": 8,
   "metadata": {},
   "outputs": [
    {
     "name": "stdout",
     "output_type": "stream",
     "text": [
      "Hello Students, How are You? welcome to F Section\n"
     ]
    }
   ],
   "source": [
    "greet(\"Students\",\"How are You? \",\"F Section\")"
   ]
  },
  {
   "cell_type": "code",
   "execution_count": null,
   "metadata": {},
   "outputs": [],
   "source": []
  }
 ],
 "metadata": {
  "kernelspec": {
   "display_name": "Python 3",
   "language": "python",
   "name": "python3"
  },
  "language_info": {
   "codemirror_mode": {
    "name": "ipython",
    "version": 3
   },
   "file_extension": ".py",
   "mimetype": "text/x-python",
   "name": "python",
   "nbconvert_exporter": "python",
   "pygments_lexer": "ipython3",
   "version": "3.7.4"
  }
 },
 "nbformat": 4,
 "nbformat_minor": 2
}
